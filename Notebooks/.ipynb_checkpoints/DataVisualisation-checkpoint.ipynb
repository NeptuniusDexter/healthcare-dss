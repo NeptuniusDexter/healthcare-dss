{
 "cells": [
  {
   "cell_type": "code",
   "execution_count": null,
   "id": "a392fe83-f2d0-4464-99e7-528fea065d69",
   "metadata": {},
   "outputs": [],
   "source": [
    "import pandas as pd\n",
    "import numpy as np\n",
    "import sqlite3\n",
    "import matplotlib.pyplot as plt\n",
    "import seaborn as sns"
   ]
  },
  {
   "cell_type": "code",
   "execution_count": null,
   "id": "b5d6a826-6870-4e84-9aad-b9fb0c569105",
   "metadata": {},
   "outputs": [],
   "source": [
    "database_name = 'heart.db'\n",
    "conn = sqlite3.connect(database_name)"
   ]
  },
  {
   "cell_type": "code",
   "execution_count": null,
   "id": "0d314fb5-58d6-4787-a903-1c54589072ce",
   "metadata": {},
   "outputs": [],
   "source": [
    "query = \"SELECT * FROM patients\"\n",
    "df = pd.read_sql_query(query, conn)\n",
    "\n",
    "print(df.head())"
   ]
  },
  {
   "cell_type": "code",
   "execution_count": null,
   "id": "55700bee-d621-4571-9bc7-d890efd4fd4d",
   "metadata": {},
   "outputs": [],
   "source": [
    "categorical_vars = ['sex', 'cp', 'fbs', 'restecg', 'exang', 'slope', 'ca', 'thal']\n",
    "for var in categorical_vars:\n",
    "    df[var] = df[var].astype('category')\n",
    "\n",
    "# Ensure target column is of type 'category'\n",
    "df['target'] = df['target'].astype('category')\n",
    "\n",
    "# Verify the data types and print unique values\n",
    "print(df.dtypes)\n",
    "for var in categorical_vars + ['target']:\n",
    "    print(f\"Unique values in {var}: {df[var].unique()}\")"
   ]
  },
  {
   "cell_type": "code",
   "execution_count": null,
   "id": "385d60e4-91c0-48a1-a4d6-4ea1b68ad6fa",
   "metadata": {},
   "outputs": [],
   "source": [
    "plt.figure(figsize=(20, 15))\n",
    "\n",
    "for i, var in enumerate(categorical_vars):\n",
    "    plt.subplot(3, 3, i + 1)  # Create a subplot for each variable\n",
    "    sns.countplot(x=var, hue='target', data=df, palette='Set1')\n",
    "    plt.title(f'Distribution of {var} by target')\n",
    "    plt.xlabel(var)\n",
    "    plt.ylabel('Count')\n",
    "\n",
    "plt.tight_layout()\n",
    "plt.show()"
   ]
  },
  {
   "cell_type": "code",
   "execution_count": null,
   "id": "0fabc202-d3f4-42e7-80a2-d49fe8cd35bc",
   "metadata": {},
   "outputs": [],
   "source": []
  },
  {
   "cell_type": "code",
   "execution_count": null,
   "id": "93408583-de4e-4caf-bcab-28885e8804ca",
   "metadata": {},
   "outputs": [],
   "source": [
    "conn.close()"
   ]
  }
 ],
 "metadata": {
  "kernelspec": {
   "display_name": "Python 3 (ipykernel)",
   "language": "python",
   "name": "python3"
  },
  "language_info": {
   "codemirror_mode": {
    "name": "ipython",
    "version": 3
   },
   "file_extension": ".py",
   "mimetype": "text/x-python",
   "name": "python",
   "nbconvert_exporter": "python",
   "pygments_lexer": "ipython3",
   "version": "3.11.7"
  }
 },
 "nbformat": 4,
 "nbformat_minor": 5
}
